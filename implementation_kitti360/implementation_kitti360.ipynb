{
 "cells": [
  {
   "cell_type": "markdown",
   "id": "3f1dbb77",
   "metadata": {},
   "source": [
    "# Implementation KITTI-360 for KPRnet\n",
    "\n",
    "**Authors:**\n",
    "1. Aden Westmaas (4825373)\n",
    "2. Badr Essabri (5099412)\n",
    "3. Guido Dumont (5655366)\n",
    "\n",
    "This Notebook contains the code to sample individual pointsclouds from the KITTI-360 dataset. These individual pointclouds are compatible with the source code of KPRNet.\n",
    "\n",
    "*Remark:* The proposed methodology is computational expensive"
   ]
  },
  {
   "cell_type": "code",
   "execution_count": 1,
   "id": "eac3a220",
   "metadata": {},
   "outputs": [],
   "source": [
    "import numpy as np\n",
    "import open3d as o3d\n",
    "from plyfile import PlyData, PlyElement\n",
    "from tqdm.notebook import tqdm"
   ]
  },
  {
   "cell_type": "markdown",
   "id": "a13725b8",
   "metadata": {},
   "source": [
    "## Original KITTI-360 data sample\n",
    "\n",
    "The cells below visualizes one pointcloud sequences from the KITTI-360 dataset"
   ]
  },
  {
   "cell_type": "code",
   "execution_count": 2,
   "id": "c11606e9",
   "metadata": {},
   "outputs": [],
   "source": [
    "original_pcl = o3d.io.read_point_cloud(\"kitti360_sequence.ply\")\n",
    "points = np.asarray(original_pcl.points)"
   ]
  },
  {
   "cell_type": "code",
   "execution_count": 3,
   "id": "c7809ca4",
   "metadata": {},
   "outputs": [
    {
     "name": "stdout",
     "output_type": "stream",
     "text": [
      "Number of posed frames 8185\n"
     ]
    }
   ],
   "source": [
    "# Get the pose of the car in world frame\n",
    "def get_poses():\n",
    "    poses = np.loadtxt(\"kitti360_poses.txt\")\n",
    "    frames = poses[:,0].astype(int)\n",
    "    poses = np.reshape(poses[:,1:], (-1, 3, 4))\n",
    "\n",
    "    add_rows = np.array([0, 0, 0, 1]).reshape((1, 1, 4))\n",
    "    add_rows = np.repeat(add_rows, poses.shape[0], axis=0)\n",
    "\n",
    "    poses = np.concatenate((poses, add_rows), axis=1)\n",
    "    \n",
    "    return frames, poses\n",
    "\n",
    "frames, poses = get_poses()\n",
    "print('Number of posed frames %d' % len(frames))"
   ]
  },
  {
   "cell_type": "code",
   "execution_count": 4,
   "id": "d3faf596",
   "metadata": {},
   "outputs": [],
   "source": [
    "# Sample pointcloud 80, translate to origin and visualize in world frame\n",
    "index = 80\n",
    "\n",
    "# Define origin\n",
    "origin = o3d.geometry.TriangleMesh.create_coordinate_frame(size=10.0)\n",
    "origin = origin.translate(poses[index][:3, 3:])\n",
    "origin = origin.rotate(poses[index][:3, :3])\n",
    "centre = origin.get_center()\n",
    "\n",
    "# Translate points\n",
    "translated_points = points.copy()\n",
    "translated_points[:, 0] -= centre[0]\n",
    "translated_points[:, 1] -= centre[1] + 3\n",
    "translated_points[:, 2] -= centre[2] - 4.7\n",
    "translated_points = np.dot(poses[index][:3, :3], translated_points.T).T\n",
    "\n",
    "# Make pointcloud\n",
    "translated_pcd = o3d.geometry.PointCloud()\n",
    "translated_pcd.points = o3d.utility.Vector3dVector(translated_points)\n",
    "translated_pcd.colors = original_pcl.colors\n",
    "\n",
    "# Visualize\n",
    "o3d.visualization.draw_geometries([o3d.geometry.TriangleMesh.create_coordinate_frame(size=10.0), translated_pcd])"
   ]
  },
  {
   "cell_type": "markdown",
   "id": "95558e6d",
   "metadata": {},
   "source": [
    "## Resulting sampled KITTI-360 pointcloud\n",
    "\n",
    "The cell below visualizes a sampled pointcloud. This sampled pointcloud is loaded in."
   ]
  },
  {
   "cell_type": "code",
   "execution_count": 5,
   "id": "5fe55d7d",
   "metadata": {},
   "outputs": [],
   "source": [
    "resulting_pcl = o3d.io.read_point_cloud(\"sampled_kitti360_pcl.pcd\")\n",
    "\n",
    "o3d.visualization.draw_geometries([o3d.geometry.TriangleMesh.create_coordinate_frame(size=1.0), resulting_pcl])"
   ]
  },
  {
   "cell_type": "markdown",
   "id": "8831113d",
   "metadata": {},
   "source": [
    "## Implementation algorithm\n",
    "\n",
    "The cells below sample a single pointcloud from the sequence visualized above."
   ]
  },
  {
   "cell_type": "code",
   "execution_count": null,
   "id": "3e1b3cf6",
   "metadata": {
    "scrolled": true
   },
   "outputs": [],
   "source": [
    "# Transform to spherical_coordinates\n",
    "def spherical_coordinates(data):\n",
    "    output = np.zeros(data.shape)\n",
    "\n",
    "    output[:, 0] = np.linalg.norm(data, axis=1) # r\n",
    "    output[:, 1] = np.arccos(np.divide(data[:, 2], output[:, 0])) * (180 / np.pi) - 90 # Phi\n",
    "    output[:, 2] = np.arctan2(data[:, 1], data[:, 0]) * (180 / np.pi) # Theta\n",
    "    \n",
    "    return output\n",
    "\n",
    "# Sample individual pointclouds from the data\n",
    "def sample(data):\n",
    "    # Measurement range\n",
    "    indeces = np.argwhere(data[:, 0] <= 120).ravel()\n",
    "    sampled_points = data[indeces]\n",
    "\n",
    "    # Define horizontale and vertical angles based on the specs of the LIDAR\n",
    "    horizontal_angles = np.linspace(-180, 180, int(360 / 0.15))\n",
    "    vertical_angles = np.linspace(-25, 2, 64)\n",
    "    \n",
    "    # Sample\n",
    "    cloud_indeces = []\n",
    "    for h in tqdm(horizontal_angles):\n",
    "        for v in vertical_angles:\n",
    "            close_points = np.sum(abs(sampled_points[:, 1:] - np.array([v, h])), axis=1)\n",
    "            index = np.argmin(close_points)\n",
    "            cloud_indeces.append(indeces[index])\n",
    "            \n",
    "    return cloud_indeces\n",
    "\n",
    "spherical_points = spherical_coordinates(translated_points.copy())\n",
    "cloud_indeces = sample(spherical_points)\n",
    "cloud_indeces = np.random.choice(cloud_indeces, int(len(cloud_indeces)*0.1))"
   ]
  },
  {
   "cell_type": "code",
   "execution_count": null,
   "id": "82fc1fa6",
   "metadata": {},
   "outputs": [],
   "source": [
    "# Visualize sampled pointclouds\n",
    "\n",
    "sampled_pcl = o3d.geometry.PointCloud()\n",
    "sampled_pcl.points = o3d.utility.Vector3dVector(translated_points[cloud_indeces])\n",
    "\n",
    "colors = np.asarray(pcd.colors)\n",
    "sampled_pcd.colors = o3d.utility.Vector3dVector(colors[cloud_indeces])\n",
    "\n",
    "o3d.visualization.draw_geometries([o3d.geometry.TriangleMesh.create_coordinate_frame(size=1.0), sampled_pcd])"
   ]
  },
  {
   "cell_type": "code",
   "execution_count": null,
   "id": "d74b0fc2",
   "metadata": {},
   "outputs": [],
   "source": [
    "# Save resulting pointcloud\n",
    "\n",
    "# o3d.io.write_point_cloud(\"sampled_kitti360_pcl.pcd\", sampled_pcd)"
   ]
  }
 ],
 "metadata": {
  "kernelspec": {
   "display_name": "Python 3 (ipykernel)",
   "language": "python",
   "name": "python3"
  },
  "language_info": {
   "codemirror_mode": {
    "name": "ipython",
    "version": 3
   },
   "file_extension": ".py",
   "mimetype": "text/x-python",
   "name": "python",
   "nbconvert_exporter": "python",
   "pygments_lexer": "ipython3",
   "version": "3.8.16"
  }
 },
 "nbformat": 4,
 "nbformat_minor": 5
}
